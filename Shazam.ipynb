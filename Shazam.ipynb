{
  "cells": [
    {
      "cell_type": "markdown",
      "metadata": {
        "id": "view-in-github",
        "colab_type": "text"
      },
      "source": [
        "<a href=\"https://colab.research.google.com/github/CatMcQueen/audio_fingerprint_identify/blob/main/Shazam.ipynb\" target=\"_parent\"><img src=\"https://colab.research.google.com/assets/colab-badge.svg\" alt=\"Open In Colab\"/></a>"
      ]
    },
    {
      "cell_type": "code",
      "execution_count": 1,
      "metadata": {
        "colab": {
          "base_uri": "https://localhost:8080/"
        },
        "id": "LC02Gw8GhqS5",
        "outputId": "80bf7bec-a2a2-40ea-d04f-873ba0ceb196"
      },
      "outputs": [
        {
          "output_type": "stream",
          "name": "stdout",
          "text": [
            "Looking in indexes: https://pypi.org/simple, https://us-python.pkg.dev/colab-wheels/public/simple/\n",
            "Requirement already satisfied: pydub in /usr/local/lib/python3.8/dist-packages (0.25.1)\n"
          ]
        }
      ],
      "source": [
        "!pip install pydub\n",
        "#!pip install ffmpeg"
      ]
    },
    {
      "cell_type": "code",
      "execution_count": 2,
      "metadata": {
        "id": "P5eXFoQ-iaVe"
      },
      "outputs": [],
      "source": [
        "#import ffmpeg\n",
        "import os\n",
        "# to convert mp3 to wav files\n",
        "from pydub import AudioSegment\n",
        "\n",
        "# for data transformation\n",
        "import numpy as np\n",
        "# for visualizing the data\n",
        "import matplotlib.pyplot as plt\n",
        "# for making the spectogram\n",
        "import matplotlib.mlab as mlab\n",
        "# for opening the media file\n",
        "import wave\n",
        "#import scipy.io.wavfile as wavfile\n",
        "# to make the fingerprints from the spectograms\n",
        "from skimage.feature import peak_local_max\n",
        "# for making the hash\n",
        "import hashlib\n",
        "# for making the database\n",
        "import sqlite3\n"
      ]
    },
    {
      "cell_type": "code",
      "execution_count": 3,
      "metadata": {
        "id": "BfBn-saAj-HK"
      },
      "outputs": [],
      "source": [
        "# change these values ####\n",
        "show_plots = False\n",
        "debug = False\n",
        "fan_value = 15 # the max number collected for each anchor point\n",
        "threshold = 41000  # the threshold value to make values only hold on if they're bright\n",
        "finger_reduct_val = 256 # the hash characters\n",
        "sample_time = 30 # give it 10 seconds to figure out if it's the same song\n",
        "mp3base = './mp3/' # where the mp3 are stored\n",
        "wavbase = './wav/'  # where the wav are stored after conversion\n",
        "searchfilename = 'dreams.wav'\n",
        "######################\n"
      ]
    },
    {
      "cell_type": "code",
      "execution_count": 4,
      "metadata": {
        "id": "4Uv44aMGDVC6"
      },
      "outputs": [],
      "source": [
        "## Global Values ##\n",
        "sample_freq = 44100 # this is a forced val, DO NOT CHANGE THIS ONE\n",
        "samples_count = sample_time * sample_freq\n",
        "# make the wav folder if it doesn't exist\n",
        "isExist = os.path.exists(wavbase)\n",
        "if not isExist:\n",
        "  os.makedirs(wavbase)\n",
        "all_mp3    = os.listdir(mp3base)\n",
        "all_wav    = os.listdir(wavbase)\n",
        "avgsamples = sample_time * sample_freq/100; # set up histogram block size"
      ]
    },
    {
      "cell_type": "code",
      "execution_count": 18,
      "metadata": {
        "id": "TbdC7LjmlyA6"
      },
      "outputs": [],
      "source": [
        "## CREATE DATABASE \n",
        "\n",
        "class SongDatabase():\n",
        "  # set up the array\n",
        "  def __init__(self):\n",
        "    # self database = <songid, name of song, hash, offset>\n",
        "    self.database = None    \n",
        "    self.song_names = None\n",
        "\n",
        "  def clear(self):\n",
        "    self.database = None\n",
        "\n",
        "  def add_values(self, values=None):\n",
        "    #import pdb; pdb.set_trace()\n",
        "    try:\n",
        "      self.database = np.append(self.database, values, axis=0)  \n",
        "    except:\n",
        "      self.database = np.array(values)\n",
        "\n",
        "  def search(self, values=None):\n",
        "    # make a list of all the matches\n",
        "    match = []\n",
        "    #import pdb; pdb.set_trace()\n",
        "    for hash in values:\n",
        "        matches = [en for en in self.database if en[2]==hash]\n",
        "        match.append(matches)\n",
        "    \n",
        "    # now filter from the matches, count songs by getting unique ID\n",
        "    self.song_count, unique_indices = np.unique(self.database[:,0], return_index=True)\n",
        "\n",
        "    self.song_names = [self.database[x,1] for x in unique_indices]\n",
        "    histogram       = np.zeros(len(self.song_count))\n",
        "\n",
        "    for mat in match:\n",
        "      for m in mat:\n",
        "        i = int(m[0])\n",
        "        histogram[i] += 1\n",
        "    most_likely_idx = np.argmax(np.array(histogram))\n",
        "    scaled_histogram = histogram*100/len(values)\n",
        "    return scaled_histogram, self.song_names[most_likely_idx]"
      ]
    },
    {
      "cell_type": "code",
      "execution_count": 6,
      "metadata": {
        "id": "3KuyMhePnBJr"
      },
      "outputs": [],
      "source": [
        "# create the functions to make the fingerprinting\n",
        "def fingerprint(wavefile, sample=False):\n",
        "  # collect the wave data\n",
        "  wave_obj = wave.open(wavefile, 'rb')\n",
        "  sample_freq = wave_obj.getframerate()\n",
        "  n_samples = wave_obj.getnframes()\n",
        "  t_audio = n_samples/sample_freq\n",
        "  signal_wave   = wave_obj.readframes(n_samples)\n",
        "  signal_array  = np.frombuffer(signal_wave, dtype=np.int16)\n",
        "  l_chan        = signal_array[0::2]\n",
        "  r_chan        = signal_array[1::2]\n",
        "  total_sig     = (l_chan/2.0 + r_chan/2.0) # prevent overflow\n",
        "  times = np.linspace(0, n_samples/sample_freq, num=n_samples)\n",
        "\n",
        "  # if this is the image that we're sampling\n",
        "  # then read in the file, add gaussian noise, and trim to 10s\n",
        "  if sample:\n",
        "    sample_set = samples_count\n",
        "    # if the file is less than 10s then just sample the whole song\n",
        "    if (n_samples <= sample_set):\n",
        "      sample_set = n_samples\n",
        "    try:\n",
        "      start = np.random.randint(0, high=n_samples-sample_set) \n",
        "    except:\n",
        "      start = 0\n",
        "    total_sig   = total_sig[start:start+sample_set]\n",
        "    times       = times[start:start+sample_set]\n",
        "\n",
        "  # and make the spectogram\n",
        "  data, freqs, t = mlab.specgram(total_sig, Fs=sample_freq, NFFT=4096, noverlap=4096*.5)\n",
        "\n",
        "  #if it's the image we're sampling, add some random gaussian noise\n",
        "  #if sample:\n",
        "  #  gauss_noise = np.random.random(data.shape)\n",
        "  #  data        = data+gauss_noise*np.median(data)/8\n",
        "\n",
        "  # then use that to make the fingerprinted image\n",
        "  median = np.median(data)\n",
        "  stdev = 0 + np.std(data)/8\n",
        "  sumval = max(median+stdev, threshold)\n",
        "  # get things in the higher than the threshold of half the stdev (this means it will scale with loud sounds)\n",
        "  xy = peak_local_max(data, min_distance=25,threshold_abs=sumval)\n",
        "\n",
        "\n",
        "  if debug:\n",
        "    print('The song is {} seconds long.'.format(t_audio))\n",
        "  if show_plots:\n",
        "    fig , (ax1,ax2)  = plt.subplots(2, 1, figsize=(15,5),sharex = False, sharey=False)\n",
        "    z1_plot = ax1.specgram(total_sig, Fs=sample_freq, vmin=-20, vmax=50)\n",
        "    z2_plot = ax2.plot(xy[:,1], xy[:,0], '.')\n",
        "    plt.show()\n",
        "\n",
        "  return xy # return the fingerprint image to compute the hash\n"
      ]
    },
    {
      "cell_type": "code",
      "execution_count": 7,
      "metadata": {
        "id": "VSbL06WznA8s"
      },
      "outputs": [],
      "source": [
        "# and the function to make the hash values\n",
        "def hash_image(xy):\n",
        "  # sort them so that they're organized by sample/time\n",
        "  pairs = np.sort(xy, axis=0) \n",
        "  results = []\n",
        "  for i in range(len(pairs)):\n",
        "    #fanresults = []\n",
        "    for fan in range(1,fan_value):\n",
        "      if (i+fan) >= len(pairs):\n",
        "        break\n",
        "      # freq is y axis\n",
        "      freq1 = pairs[i,0]\n",
        "      freq2 = pairs[i+fan,0]\n",
        "\n",
        "      # time is x axis\n",
        "      time1 = pairs[i,1]\n",
        "      time2 = pairs[i+fan,1]\n",
        "      tdelta = time2-time1 \n",
        "\n",
        "      # take the values and put them in the hash using sha1 hash \n",
        "      if tdelta >=0 and tdelta <= finger_reduct_val and freq1 != freq2:\n",
        "        result = \"{freq1}|{freq2}|{delta}\".format(freq1=freq1, freq2=freq2, delta= tdelta)\n",
        "        result = result.encode('utf-8')\n",
        "        res    = hashlib.sha1(result)\n",
        "        results.append((res.hexdigest()[0:finger_reduct_val], time1))\n",
        "    #results.append(fanresults)\n",
        "  return results"
      ]
    },
    {
      "cell_type": "code",
      "source": [],
      "metadata": {
        "id": "LTXje-qf998g"
      },
      "execution_count": 7,
      "outputs": []
    },
    {
      "cell_type": "code",
      "execution_count": 8,
      "metadata": {
        "id": "Wlg7LToHrtZb"
      },
      "outputs": [],
      "source": [
        "# convert files to wave format\n",
        "def convert_mp3_files():\n",
        "  for filenm in all_mp3:\n",
        "    # save off the images in wav format\n",
        "    dst      = wavbase + filenm[:-3] + 'wav'\n",
        "    filename = mp3base + filenm\n",
        "    AudioSegment.from_mp3(filename).export(dst, format=\"wav\")"
      ]
    },
    {
      "cell_type": "markdown",
      "metadata": {
        "id": "Vt3wI2FqtPw5"
      },
      "source": []
    },
    {
      "cell_type": "code",
      "execution_count": 9,
      "metadata": {
        "id": "uyWhVtNPnAwY"
      },
      "outputs": [],
      "source": [
        "# create the database by reading in the files\n",
        "def create_database(db):\n",
        "  # get the hash values\n",
        "  for id, wavfile in enumerate(all_wav):\n",
        "    songname  = wavfile[:-4]\n",
        "    xy        = fingerprint(wavbase + wavfile)\n",
        "    imagehash = hash_image(xy)\n",
        "    data      = [[id, songname, x[0], x[1]] for x in imagehash]\n",
        "    db.add_values(data)"
      ]
    },
    {
      "cell_type": "code",
      "execution_count": 10,
      "metadata": {
        "id": "kGEp9OYD6tUH"
      },
      "outputs": [],
      "source": [
        "def search_database(db):\n",
        "  # parse the 10 random selected files:\n",
        "  indexes = np.random.randint(0,high=len(all_wav), size=(10,1))\n",
        "  for idx in indexes:\n",
        "    songfile  = all_wav[idx[0]]\n",
        "    songname  = songfile[:-4]\n",
        "    xy        = fingerprint(wavbase + songfile, sample=True)\n",
        "    imagehash = hash_image(xy)\n",
        "    imagehash = np.array(imagehash)\n",
        "                         \n",
        "    #hashes only search\n",
        "    try:\n",
        "      hashkey = imagehash[:,0]\n",
        "      histogram, song_choice = db.search(hashkey)\n",
        "    except:\n",
        "      print('Something went wrong with this sample')\n",
        "      print(imagehash.shape)\n",
        "\n",
        "    print('Most Likely: {}, Actual: {}'.format(song_choice, songname))\n",
        "    print(histogram)\n",
        "  "
      ]
    },
    {
      "cell_type": "code",
      "execution_count": 11,
      "metadata": {
        "id": "FgVLf99UrVc1"
      },
      "outputs": [],
      "source": [
        "########### MAIN ############\n",
        "if not isExist:\n",
        "  convert_mp3_files()\n",
        "  all_wav   = os.listdir(wavbase)\n"
      ]
    },
    {
      "cell_type": "code",
      "source": [
        "# initialize the database\n",
        "db = SongDatabase()"
      ],
      "metadata": {
        "id": "Y0fjR9ugsaSL"
      },
      "execution_count": 12,
      "outputs": []
    },
    {
      "cell_type": "code",
      "source": [
        "# create the database off the wav file\n",
        "create_database(db)"
      ],
      "metadata": {
        "id": "6bK0DSC6qnb1"
      },
      "execution_count": 13,
      "outputs": []
    },
    {
      "cell_type": "code",
      "execution_count": 19,
      "metadata": {
        "colab": {
          "base_uri": "https://localhost:8080/"
        },
        "id": "o7zWutD_DyrO",
        "outputId": "d8a4b800-6686-42ad-fc6f-9f654478770a"
      },
      "outputs": [
        {
          "output_type": "stream",
          "name": "stdout",
          "text": [
            "Most Likely: dreams, Actual: dreams\n",
            "[0.02788845 0.        ]\n",
            "Most Likely: dreams, Actual: dreams\n",
            "[0.02622951 0.        ]\n",
            "Most Likely: Broke For Free - Night Owl, Actual: Broke For Free - Night Owl\n",
            "[0.         0.25697211]\n",
            "Most Likely: Broke For Free - Night Owl, Actual: Broke For Free - Night Owl\n",
            "[0.         0.16074766]\n",
            "Most Likely: dreams, Actual: dreams\n",
            "[0.00520833 0.        ]\n",
            "Most Likely: Broke For Free - Night Owl, Actual: Broke For Free - Night Owl\n",
            "[0.         0.57476636]\n",
            "Most Likely: dreams, Actual: dreams\n",
            "[0.01908397 0.        ]\n",
            "Most Likely: Broke For Free - Night Owl, Actual: Broke For Free - Night Owl\n",
            "[0.         0.34560327]\n",
            "Most Likely: dreams, Actual: dreams\n",
            "[0.015625 0.      ]\n",
            "Most Likely: dreams, Actual: dreams\n",
            "[0.0183727 0.       ]\n"
          ]
        }
      ],
      "source": [
        "# create sample to test\n",
        "search_database(db) "
      ]
    },
    {
      "cell_type": "code",
      "source": [
        "show_plots = False"
      ],
      "metadata": {
        "id": "ox0ANa9hVYMx"
      },
      "execution_count": 15,
      "outputs": []
    },
    {
      "cell_type": "code",
      "source": [],
      "metadata": {
        "id": "HdPins-hVZ7w"
      },
      "execution_count": 15,
      "outputs": []
    }
  ],
  "metadata": {
    "colab": {
      "provenance": [],
      "authorship_tag": "ABX9TyO8kg1Hj2PejLlpzyl0HI09",
      "include_colab_link": true
    },
    "kernelspec": {
      "display_name": "Python 3",
      "name": "python3"
    },
    "language_info": {
      "name": "python"
    }
  },
  "nbformat": 4,
  "nbformat_minor": 0
}